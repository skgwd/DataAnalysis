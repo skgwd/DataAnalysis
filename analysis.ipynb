{
 "cells": [
  {
   "cell_type": "code",
   "execution_count": 42,
   "metadata": {},
   "outputs": [],
   "source": [
    "# Importing Libraries\n",
    "import pandas as pd\n",
    "import numpy as np\n",
    "import matplotlib.pyplot as plt\n",
    "import seaborn as sns\n",
    "import warnings\n",
    "%matplotlib inline\n",
    "warnings.filterwarnings('ignore')\n"
   ]
  },
  {
   "cell_type": "code",
   "execution_count": 43,
   "metadata": {},
   "outputs": [],
   "source": [
    " # Loading the data from csv into a dataframe\n",
    "df= pd.read_csv('./Desktop/Docs-personal/Chegg/Data.csv', encoding = \"ISO-8859-1\")"
   ]
  },
  {
   "cell_type": "code",
   "execution_count": null,
   "metadata": {
    "scrolled": false
   },
   "outputs": [],
   "source": [
    "# priliminary testing and familiarization of the data\n",
    "df.info()       #  lists all columns and datatype\n",
    "df.head(10)     # to get the top 10 rows "
   ]
  },
  {
   "cell_type": "code",
   "execution_count": 53,
   "metadata": {},
   "outputs": [
    {
     "name": "stdout",
     "output_type": "stream",
     "text": [
      "Summary of variables in the data\n"
     ]
    },
    {
     "data": {
      "text/html": [
       "<div>\n",
       "<style scoped>\n",
       "    .dataframe tbody tr th:only-of-type {\n",
       "        vertical-align: middle;\n",
       "    }\n",
       "\n",
       "    .dataframe tbody tr th {\n",
       "        vertical-align: top;\n",
       "    }\n",
       "\n",
       "    .dataframe thead th {\n",
       "        text-align: right;\n",
       "    }\n",
       "</style>\n",
       "<table border=\"1\" class=\"dataframe\">\n",
       "  <thead>\n",
       "    <tr style=\"text-align: right;\">\n",
       "      <th></th>\n",
       "      <th>admission_rate.by_ope_id</th>\n",
       "      <th>sat_scores.midpoint.critical_reading</th>\n",
       "      <th>sat_scores.midpoint.math</th>\n",
       "      <th>sat_scores.midpoint.writing</th>\n",
       "      <th>sat_scores.average.by_ope_id</th>\n",
       "      <th>program_percentage.agriculture</th>\n",
       "      <th>program_percentage.resources</th>\n",
       "      <th>program_percentage.architecture</th>\n",
       "      <th>program_percentage.ethnic_cultural_gender</th>\n",
       "      <th>program_percentage.communication</th>\n",
       "      <th>...</th>\n",
       "      <th>program_percentage.mechanic_repair_technology</th>\n",
       "      <th>program_percentage.precision_production</th>\n",
       "      <th>program_percentage.transportation</th>\n",
       "      <th>program_percentage.visual_performing</th>\n",
       "      <th>program_percentage.health</th>\n",
       "      <th>program_percentage.business_marketing</th>\n",
       "      <th>program_percentage.history</th>\n",
       "      <th>size</th>\n",
       "      <th>tuition.in_state</th>\n",
       "      <th>tuition.out_of_state</th>\n",
       "    </tr>\n",
       "  </thead>\n",
       "  <tbody>\n",
       "    <tr>\n",
       "      <th>amax</th>\n",
       "      <td>1.000000</td>\n",
       "      <td>760.000000</td>\n",
       "      <td>785.000000</td>\n",
       "      <td>755.000000</td>\n",
       "      <td>1534.000000</td>\n",
       "      <td>1.000000</td>\n",
       "      <td>0.564100</td>\n",
       "      <td>1.000000</td>\n",
       "      <td>0.692300</td>\n",
       "      <td>1.000000</td>\n",
       "      <td>...</td>\n",
       "      <td>1.000000</td>\n",
       "      <td>1.000000</td>\n",
       "      <td>1.000000</td>\n",
       "      <td>1.000000</td>\n",
       "      <td>1.000000</td>\n",
       "      <td>1.000000</td>\n",
       "      <td>0.184500</td>\n",
       "      <td>166816.000000</td>\n",
       "      <td>64900.000000</td>\n",
       "      <td>64900.000000</td>\n",
       "    </tr>\n",
       "    <tr>\n",
       "      <th>amin</th>\n",
       "      <td>0.000000</td>\n",
       "      <td>290.000000</td>\n",
       "      <td>310.000000</td>\n",
       "      <td>350.000000</td>\n",
       "      <td>666.000000</td>\n",
       "      <td>0.000000</td>\n",
       "      <td>0.000000</td>\n",
       "      <td>0.000000</td>\n",
       "      <td>0.000000</td>\n",
       "      <td>0.000000</td>\n",
       "      <td>...</td>\n",
       "      <td>0.000000</td>\n",
       "      <td>0.000000</td>\n",
       "      <td>0.000000</td>\n",
       "      <td>0.000000</td>\n",
       "      <td>0.000000</td>\n",
       "      <td>0.000000</td>\n",
       "      <td>0.000000</td>\n",
       "      <td>0.000000</td>\n",
       "      <td>0.000000</td>\n",
       "      <td>80.000000</td>\n",
       "    </tr>\n",
       "    <tr>\n",
       "      <th>mean</th>\n",
       "      <td>0.690568</td>\n",
       "      <td>521.812452</td>\n",
       "      <td>530.771863</td>\n",
       "      <td>521.239596</td>\n",
       "      <td>1061.627694</td>\n",
       "      <td>0.003936</td>\n",
       "      <td>0.002663</td>\n",
       "      <td>0.001496</td>\n",
       "      <td>0.001270</td>\n",
       "      <td>0.011602</td>\n",
       "      <td>...</td>\n",
       "      <td>0.027680</td>\n",
       "      <td>0.009295</td>\n",
       "      <td>0.007270</td>\n",
       "      <td>0.033763</td>\n",
       "      <td>0.270298</td>\n",
       "      <td>0.096060</td>\n",
       "      <td>0.004472</td>\n",
       "      <td>2332.781523</td>\n",
       "      <td>13861.481087</td>\n",
       "      <td>16359.024786</td>\n",
       "    </tr>\n",
       "    <tr>\n",
       "      <th>std</th>\n",
       "      <td>0.203374</td>\n",
       "      <td>67.925198</td>\n",
       "      <td>71.641408</td>\n",
       "      <td>77.548001</td>\n",
       "      <td>129.988516</td>\n",
       "      <td>0.033695</td>\n",
       "      <td>0.016432</td>\n",
       "      <td>0.025274</td>\n",
       "      <td>0.012151</td>\n",
       "      <td>0.052585</td>\n",
       "      <td>...</td>\n",
       "      <td>0.116521</td>\n",
       "      <td>0.052719</td>\n",
       "      <td>0.066755</td>\n",
       "      <td>0.128781</td>\n",
       "      <td>0.349355</td>\n",
       "      <td>0.156117</td>\n",
       "      <td>0.012390</td>\n",
       "      <td>5442.696859</td>\n",
       "      <td>10614.221540</td>\n",
       "      <td>9869.967465</td>\n",
       "    </tr>\n",
       "  </tbody>\n",
       "</table>\n",
       "<p>4 rows × 46 columns</p>\n",
       "</div>"
      ],
      "text/plain": [
       "      admission_rate.by_ope_id  sat_scores.midpoint.critical_reading  \\\n",
       "amax                  1.000000                            760.000000   \n",
       "amin                  0.000000                            290.000000   \n",
       "mean                  0.690568                            521.812452   \n",
       "std                   0.203374                             67.925198   \n",
       "\n",
       "      sat_scores.midpoint.math  sat_scores.midpoint.writing  \\\n",
       "amax                785.000000                   755.000000   \n",
       "amin                310.000000                   350.000000   \n",
       "mean                530.771863                   521.239596   \n",
       "std                  71.641408                    77.548001   \n",
       "\n",
       "      sat_scores.average.by_ope_id  program_percentage.agriculture  \\\n",
       "amax                   1534.000000                        1.000000   \n",
       "amin                    666.000000                        0.000000   \n",
       "mean                   1061.627694                        0.003936   \n",
       "std                     129.988516                        0.033695   \n",
       "\n",
       "      program_percentage.resources  program_percentage.architecture  \\\n",
       "amax                      0.564100                         1.000000   \n",
       "amin                      0.000000                         0.000000   \n",
       "mean                      0.002663                         0.001496   \n",
       "std                       0.016432                         0.025274   \n",
       "\n",
       "      program_percentage.ethnic_cultural_gender  \\\n",
       "amax                                   0.692300   \n",
       "amin                                   0.000000   \n",
       "mean                                   0.001270   \n",
       "std                                    0.012151   \n",
       "\n",
       "      program_percentage.communication          ...           \\\n",
       "amax                          1.000000          ...            \n",
       "amin                          0.000000          ...            \n",
       "mean                          0.011602          ...            \n",
       "std                           0.052585          ...            \n",
       "\n",
       "      program_percentage.mechanic_repair_technology  \\\n",
       "amax                                       1.000000   \n",
       "amin                                       0.000000   \n",
       "mean                                       0.027680   \n",
       "std                                        0.116521   \n",
       "\n",
       "      program_percentage.precision_production  \\\n",
       "amax                                 1.000000   \n",
       "amin                                 0.000000   \n",
       "mean                                 0.009295   \n",
       "std                                  0.052719   \n",
       "\n",
       "      program_percentage.transportation  program_percentage.visual_performing  \\\n",
       "amax                           1.000000                              1.000000   \n",
       "amin                           0.000000                              0.000000   \n",
       "mean                           0.007270                              0.033763   \n",
       "std                            0.066755                              0.128781   \n",
       "\n",
       "      program_percentage.health  program_percentage.business_marketing  \\\n",
       "amax                   1.000000                               1.000000   \n",
       "amin                   0.000000                               0.000000   \n",
       "mean                   0.270298                               0.096060   \n",
       "std                    0.349355                               0.156117   \n",
       "\n",
       "      program_percentage.history           size  tuition.in_state  \\\n",
       "amax                    0.184500  166816.000000      64900.000000   \n",
       "amin                    0.000000       0.000000          0.000000   \n",
       "mean                    0.004472    2332.781523      13861.481087   \n",
       "std                     0.012390    5442.696859      10614.221540   \n",
       "\n",
       "      tuition.out_of_state  \n",
       "amax          64900.000000  \n",
       "amin             80.000000  \n",
       "mean          16359.024786  \n",
       "std            9869.967465  \n",
       "\n",
       "[4 rows x 46 columns]"
      ]
     },
     "execution_count": 53,
     "metadata": {},
     "output_type": "execute_result"
    }
   ],
   "source": [
    "# Question 1:\tLook at the summary statistics for your variables (max, min, mean, standard deviation).  How many observations do you have?  How many observations have data in every column?\n",
    "\n",
    "print(\"Summary of variables in the data\")\n",
    "df.iloc[:,12:].agg([np.max,np.min,np.mean,np.std]) # filtering on columns starting from 13th column and getting their aggregate\n",
    "\n"
   ]
  },
  {
   "cell_type": "code",
   "execution_count": 54,
   "metadata": {},
   "outputs": [
    {
     "name": "stdout",
     "output_type": "stream",
     "text": [
      "Count of non null observations\n"
     ]
    },
    {
     "data": {
      "text/plain": [
       "admission_rate.by_ope_id                                   2484\n",
       "sat_scores.midpoint.critical_reading                       1301\n",
       "sat_scores.midpoint.math                                   1315\n",
       "sat_scores.midpoint.writing                                 793\n",
       "sat_scores.average.by_ope_id                               1531\n",
       "program_percentage.agriculture                             7086\n",
       "program_percentage.resources                               7086\n",
       "program_percentage.architecture                            7086\n",
       "program_percentage.ethnic_cultural_gender                  7086\n",
       "program_percentage.communication                           7086\n",
       "program_percentage.communications_technology               7086\n",
       "program_percentage.computer                                7086\n",
       "program_percentage.personal_culinary                       7086\n",
       "program_percentage.education                               7086\n",
       "program_percentage.engineering                             7086\n",
       "program_percentage.engineering_technology                  7086\n",
       "program_percentage.language                                7086\n",
       "program_percentage.family_consumer_science                 7086\n",
       "program_percentage.legal                                   7086\n",
       "program_percentage.english                                 7086\n",
       "program_percentage.humanities                              7086\n",
       "program_percentage.library                                 7086\n",
       "program_percentage.biological                              7086\n",
       "program_percentage.mathematics                             7086\n",
       "program_percentage.military                                7086\n",
       "program_percentage.multidiscipline                         7086\n",
       "program_percentage.parks_recreation_fitness                7086\n",
       "program_percentage.philosophy_religious                    7086\n",
       "program_percentage.theology_religious_vocation             7086\n",
       "program_percentage.physical_science                        7086\n",
       "program_percentage.science_technology                      7086\n",
       "program_percentage.psychology                              7086\n",
       "program_percentage.security_law_enforcement                7086\n",
       "program_percentage.public_administration_social_service    7086\n",
       "program_percentage.social_science                          7086\n",
       "program_percentage.construction                            7086\n",
       "program_percentage.mechanic_repair_technology              7086\n",
       "program_percentage.precision_production                    7086\n",
       "program_percentage.transportation                          7086\n",
       "program_percentage.visual_performing                       7086\n",
       "program_percentage.health                                  7086\n",
       "program_percentage.business_marketing                      7086\n",
       "program_percentage.history                                 7086\n",
       "size                                                       7090\n",
       "tuition.in_state                                           4415\n",
       "tuition.out_of_state                                       4196\n",
       "dtype: int64"
      ]
     },
     "execution_count": 54,
     "metadata": {},
     "output_type": "execute_result"
    }
   ],
   "source": [
    "print(\"Count of non null observations\")\n",
    "df.iloc[:,12:].count() # getting the non null count of all columns starting from 13th"
   ]
  },
  {
   "cell_type": "code",
   "execution_count": 55,
   "metadata": {},
   "outputs": [
    {
     "name": "stdout",
     "output_type": "stream",
     "text": [
      "Number of repeated schoolnames : \n"
     ]
    },
    {
     "data": {
      "text/plain": [
       "170"
      ]
     },
     "execution_count": 55,
     "metadata": {},
     "output_type": "execute_result"
    }
   ],
   "source": [
    "#Question 2- Investigate whether there are any duplicate schools in the data\n",
    "# finding the repeated school names\n",
    "print(\"Number of repeated schoolnames : \")\n",
    "df[df.duplicated(['school_name'])]['school_name'].shape[0]\n"
   ]
  },
  {
   "cell_type": "code",
   "execution_count": 56,
   "metadata": {},
   "outputs": [
    {
     "name": "stdout",
     "output_type": "stream",
     "text": [
      "Duplicate Rows based on schoolname and zip code\n"
     ]
    },
    {
     "data": {
      "text/html": [
       "<div>\n",
       "<style scoped>\n",
       "    .dataframe tbody tr th:only-of-type {\n",
       "        vertical-align: middle;\n",
       "    }\n",
       "\n",
       "    .dataframe tbody tr th {\n",
       "        vertical-align: top;\n",
       "    }\n",
       "\n",
       "    .dataframe thead th {\n",
       "        text-align: right;\n",
       "    }\n",
       "</style>\n",
       "<table border=\"1\" class=\"dataframe\">\n",
       "  <thead>\n",
       "    <tr style=\"text-align: right;\">\n",
       "      <th></th>\n",
       "      <th>id</th>\n",
       "      <th>school_name</th>\n",
       "      <th>city</th>\n",
       "      <th>state</th>\n",
       "      <th>zip</th>\n",
       "      <th>accreditor</th>\n",
       "      <th>school_url</th>\n",
       "      <th>region_id</th>\n",
       "      <th>locale</th>\n",
       "      <th>carnegie_basic</th>\n",
       "      <th>...</th>\n",
       "      <th>program_percentage.mechanic_repair_technology</th>\n",
       "      <th>program_percentage.precision_production</th>\n",
       "      <th>program_percentage.transportation</th>\n",
       "      <th>program_percentage.visual_performing</th>\n",
       "      <th>program_percentage.health</th>\n",
       "      <th>program_percentage.business_marketing</th>\n",
       "      <th>program_percentage.history</th>\n",
       "      <th>size</th>\n",
       "      <th>tuition.in_state</th>\n",
       "      <th>tuition.out_of_state</th>\n",
       "    </tr>\n",
       "  </thead>\n",
       "  <tbody>\n",
       "    <tr>\n",
       "      <th>7298</th>\n",
       "      <td>481669</td>\n",
       "      <td>Tulsa Welding School-Tulsa</td>\n",
       "      <td>Tulsa</td>\n",
       "      <td>OK</td>\n",
       "      <td>74104-3909</td>\n",
       "      <td>Accrediting Commission of Career Schools and C...</td>\n",
       "      <td>www.weldingschool.com</td>\n",
       "      <td>6</td>\n",
       "      <td>11.0</td>\n",
       "      <td>NaN</td>\n",
       "      <td>...</td>\n",
       "      <td>0.0</td>\n",
       "      <td>0.0</td>\n",
       "      <td>0.0</td>\n",
       "      <td>0.0</td>\n",
       "      <td>0.0</td>\n",
       "      <td>0.0</td>\n",
       "      <td>0.0</td>\n",
       "      <td>125.0</td>\n",
       "      <td>NaN</td>\n",
       "      <td>NaN</td>\n",
       "    </tr>\n",
       "  </tbody>\n",
       "</table>\n",
       "<p>1 rows × 58 columns</p>\n",
       "</div>"
      ],
      "text/plain": [
       "          id                 school_name   city state         zip  \\\n",
       "7298  481669  Tulsa Welding School-Tulsa  Tulsa    OK  74104-3909   \n",
       "\n",
       "                                             accreditor  \\\n",
       "7298  Accrediting Commission of Career Schools and C...   \n",
       "\n",
       "                 school_url  region_id  locale  carnegie_basic  \\\n",
       "7298  www.weldingschool.com          6    11.0             NaN   \n",
       "\n",
       "              ...           program_percentage.mechanic_repair_technology  \\\n",
       "7298          ...                                                     0.0   \n",
       "\n",
       "      program_percentage.precision_production  \\\n",
       "7298                                      0.0   \n",
       "\n",
       "      program_percentage.transportation  program_percentage.visual_performing  \\\n",
       "7298                                0.0                                   0.0   \n",
       "\n",
       "      program_percentage.health  program_percentage.business_marketing  \\\n",
       "7298                        0.0                                    0.0   \n",
       "\n",
       "      program_percentage.history   size  tuition.in_state  \\\n",
       "7298                         0.0  125.0               NaN   \n",
       "\n",
       "      tuition.out_of_state  \n",
       "7298                   NaN  \n",
       "\n",
       "[1 rows x 58 columns]"
      ]
     },
     "execution_count": 56,
     "metadata": {},
     "output_type": "execute_result"
    }
   ],
   "source": [
    "# Repeated school names might be in different location.Finding duplicate schools using name and zipcode\n",
    "print(\"Duplicate Rows based on schoolname and zip code\")\n",
    "df[df.duplicated(['school_name','zip'])]\n"
   ]
  },
  {
   "cell_type": "code",
   "execution_count": 57,
   "metadata": {},
   "outputs": [
    {
     "name": "stdout",
     "output_type": "stream",
     "text": [
      "Number of schools with University in their name :  1720\n"
     ]
    }
   ],
   "source": [
    "# Question 3:How many schools have \"University\" in their name?\n",
    "\n",
    "print(\"Number of schools with University in their name : \",df[df['school_name'].str.contains('University')].shape[0])"
   ]
  },
  {
   "cell_type": "code",
   "execution_count": 58,
   "metadata": {},
   "outputs": [
    {
     "name": "stdout",
     "output_type": "stream",
     "text": [
      "Count of schools in each state: \n"
     ]
    },
    {
     "data": {
      "text/plain": [
       "CA    805\n",
       "TX    482\n",
       "NY    464\n",
       "FL    436\n",
       "PA    414\n",
       "OH    365\n",
       "IL    312\n",
       "MO    214\n",
       "MI    212\n",
       "NC    210\n",
       "MA    202\n",
       "GA    201\n",
       "TN    191\n",
       "VA    188\n",
       "NJ    168\n",
       "IN    162\n",
       "MN    162\n",
       "PR    152\n",
       "OK    149\n",
       "AZ    138\n",
       "CO    133\n",
       "WA    127\n",
       "LA    122\n",
       "WI    119\n",
       "SC    116\n",
       "KY    116\n",
       "KS    103\n",
       "CT    103\n",
       "MD    101\n",
       "AL     97\n",
       "OR     96\n",
       "IA     93\n",
       "AR     89\n",
       "UT     85\n",
       "WV     79\n",
       "MS     65\n",
       "NM     53\n",
       "NE     50\n",
       "NV     50\n",
       "ME     44\n",
       "ID     42\n",
       "NH     42\n",
       "MT     32\n",
       "ND     31\n",
       "SD     31\n",
       "VT     29\n",
       "HI     27\n",
       "RI     26\n",
       "DC     25\n",
       "DE     19\n",
       "AK     11\n",
       "WY     11\n",
       "GU      3\n",
       "VI      2\n",
       "MP      1\n",
       "AS      1\n",
       "FM      1\n",
       "MH      1\n",
       "PW      1\n",
       "Name: state, dtype: int64"
      ]
     },
     "execution_count": 58,
     "metadata": {},
     "output_type": "execute_result"
    }
   ],
   "source": [
    "# 4.\tHow many schools are in each state?  How many in each region? \n",
    "print(\"Count of schools in each state: \")\n",
    "df['state'].value_counts()"
   ]
  },
  {
   "cell_type": "code",
   "execution_count": 47,
   "metadata": {},
   "outputs": [
    {
     "name": "stdout",
     "output_type": "stream",
     "text": [
      "Count of schools in each Region: \n"
     ]
    },
    {
     "data": {
      "text/plain": [
       "5    1910\n",
       "2    1190\n",
       "3    1170\n",
       "8    1116\n",
       "6     822\n",
       "4     684\n",
       "1     446\n",
       "7     303\n",
       "9     162\n",
       "0       1\n",
       "Name: region_id, dtype: int64"
      ]
     },
     "execution_count": 47,
     "metadata": {},
     "output_type": "execute_result"
    }
   ],
   "source": [
    "#Number of schools in each region? \n",
    "print(\"Count of schools in each Region: \")\n",
    "df['region_id'].value_counts()\n"
   ]
  },
  {
   "cell_type": "code",
   "execution_count": 59,
   "metadata": {},
   "outputs": [
    {
     "data": {
      "text/plain": [
       "<matplotlib.axes._subplots.AxesSubplot at 0x2459efae9b0>"
      ]
     },
     "execution_count": 59,
     "metadata": {},
     "output_type": "execute_result"
    },
    {
     "data": {
      "image/png": "[encoded data removed]",
      "text/plain": [
       "<Figure size 1800x720 with 1 Axes>"
      ]
     },
     "metadata": {
      "needs_background": "light"
     },
     "output_type": "display_data"
    }
   ],
   "source": [
    "# Question 5.\tWhat is the average in-state tuition by state Please make a graph for these results.\n",
    "f, ax = plt.subplots(figsize=(25, 10))\n",
    "ax.set_title('Avg in-state tuition fee for each state')\n",
    "sns.barplot(x=df['state'], y=df['tuition.in_state'], data=df,color=\"cornflowerblue\" ,ax=ax, ci=None)"
   ]
  },
  {
   "cell_type": "code",
   "execution_count": 18,
   "metadata": {},
   "outputs": [
    {
     "data": {
      "text/plain": [
       "4196"
      ]
     },
     "execution_count": 18,
     "metadata": {},
     "output_type": "execute_result"
    }
   ],
   "source": [
    "# getting a count of schools that have data for both in_state and  out_of_state tuition fee.\n",
    "df[(df['tuition.in_state']>=0) &(df['tuition.out_of_state']>=0)].shape[0] \n"
   ]
  },
  {
   "cell_type": "code",
   "execution_count": 60,
   "metadata": {},
   "outputs": [
    {
     "data": {
      "text/plain": [
       "0.6277407054337464"
      ]
     },
     "execution_count": 60,
     "metadata": {},
     "output_type": "execute_result"
    }
   ],
   "source": [
    "# getting a percent of schools where in_state and out_of_state tuition fee are the same.\n",
    "df[df['tuition.in_state'] ==df['tuition.out_of_state']].shape[0] / df[(df['tuition.in_state']>=0) &(df['tuition.out_of_state']>=0)].shape[0] \n"
   ]
  },
  {
   "cell_type": "code",
   "execution_count": 14,
   "metadata": {},
   "outputs": [
    {
     "data": {
      "text/plain": [
       "1"
      ]
     },
     "execution_count": 14,
     "metadata": {},
     "output_type": "execute_result"
    }
   ],
   "source": [
    "\n",
    "# getting a number of schools where in_state is more than out_of_state tuition fee.\n",
    "df[df['tuition.in_state'] >df['tuition.out_of_state']].shape[0]\n"
   ]
  },
  {
   "cell_type": "code",
   "execution_count": 17,
   "metadata": {},
   "outputs": [
    {
     "data": {
      "text/plain": [
       "15.370164138037696"
      ]
     },
     "execution_count": 17,
     "metadata": {},
     "output_type": "execute_result"
    }
   ],
   "source": [
    "# getting the percentage difference of instate and out of state.\n",
    "df2 =df[(df['tuition.in_state']>=0) &(df['tuition.out_of_state']>=0)]\n",
    "(df2['tuition.out_of_state'].sum() -df2['tuition.in_state'].sum())/df2['tuition.out_of_state'].sum() *100"
   ]
  },
  {
   "cell_type": "code",
   "execution_count": 61,
   "metadata": {},
   "outputs": [],
   "source": [
    "# adding the column school group. Schools 1,2,3,5,6,9 are group as need assistance and the rest are grouped as other schools\n",
    "df['School group'] = df['carnegie_undergrad'].apply(lambda x: 'Need Assistance' if x in [1,2,3,5,6,9] else 'Other schools')"
   ]
  },
  {
   "cell_type": "code",
   "execution_count": 62,
   "metadata": {},
   "outputs": [
    {
     "data": {
      "text/plain": [
       "<matplotlib.axes._subplots.AxesSubplot at 0x2459fc56b70>"
      ]
     },
     "execution_count": 62,
     "metadata": {},
     "output_type": "execute_result"
    },
    {
     "data": {
      "image/png": "[encoded data removed]",
      "text/plain": [
       "<Figure size 1440x720 with 3 Axes>"
      ]
     },
     "metadata": {
      "needs_background": "light"
     },
     "output_type": "display_data"
    }
   ],
   "source": [
    "# comparing 'Need assistance' group with the other groups on SAT scores, admission rate and tuition fee\n",
    "fig, ax = plt.subplots(1,3, figsize=(20, 10))\n",
    "ax[0].set_title('Avg SAT Scores')\n",
    "ax[1].set_title('Avg in-state tuition fee')\n",
    "ax[2].set_title('Avg Admission Rate')\n",
    "sns.barplot( x=df['School group'],y=df['sat_scores.average.by_ope_id'], data=df,ax=ax[0], ci=None)\n",
    "sns.barplot( x=df['School group'],y=df['tuition.in_state'], data=df,ax=ax[1], ci=None)\n",
    "sns.barplot( x=df['School group'],y=df['admission_rate.by_ope_id'], data=df,ax=ax[2], ci=None)"
   ]
  },
  {
   "cell_type": "code",
   "execution_count": null,
   "metadata": {},
   "outputs": [],
   "source": [
    "\n"
   ]
  },
  {
   "cell_type": "code",
   "execution_count": null,
   "metadata": {},
   "outputs": [],
   "source": []
  }
 ],
 "metadata": {
  "kernelspec": {
   "display_name": "Python 3",
   "language": "python",
   "name": "python3"
  },
  "language_info": {
   "codemirror_mode": {
    "name": "ipython",
    "version": 3
   },
   "file_extension": ".py",
   "mimetype": "text/x-python",
   "name": "python",
   "nbconvert_exporter": "python",
   "pygments_lexer": "ipython3",
   "version": "3.7.1"
  }
 },
 "nbformat": 4,
 "nbformat_minor": 2
}
